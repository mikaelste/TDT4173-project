{
 "cells": [
  {
   "cell_type": "markdown",
   "metadata": {},
   "source": [
    "### Individual – feature exploration\n",
    "we decided to drop the follwing features:\n",
    "```python\n",
    "def drop_columns(self, df: pd.DataFrame):\n",
    "    drop = [\n",
    "        # wind speed vector u, available up to 20000 m, from 1000 hPa to 10 hPa and on flight levels FL10-FL900[m/s] does not make sens at surfece level\n",
    "        \"wind_speed_w_1000hPa:ms\",\n",
    "        \"wind_speed_u_10m:ms\",  # same as above\n",
    "        \"wind_speed_v_10m:ms\",  # same as above\n",
    "        \"snow_density:kgm3\",\n",
    "        \"snow_drift:idx\",  # denne er ny. Fikk 140.9 uten.\n",
    "    ]\n",
    "    shared_columns = list(set(df.columns) & set(drop))\n",
    "    df = df.drop(columns=shared_columns)\n",
    "    return df\n",
    "```\n",
    "\n",
    "These features were dropped based on the following reasons:\n",
    "\n",
    "1. \"wind_speed_w_1000hPa:ms\": Wind speed vector at 1000 hPa is available up to 20000 m, which doesn't make sense at the surface level.\n",
    "2. \"wind_speed_u_10m:ms\" and \"wind_speed_v_10m:ms\": These are redundant as they represent the same information as the wind speed vectors at higher altitudes.\n",
    "3. \"snow_density:kgm3\": This feature was dropped for unspecified reasons.\n",
    "4. \"snow_drift:idx\": Dropped, possibly due to inconsistency or lack of relevance, with a note indicating a specific case where it resulted in 140.9.\n",
    "\n",
    "Based on the *model-interpretations* found by plotting, all agree to our feature selection.\n",
    "\n",
    "### Pairs of data – feature exploration\n",
    "\n",
    "The wind speed and snow groups as pairs have proven to be useless.\n",
    "\n",
    "### Clean up features\n",
    "Cleaning the features, we set all values to its absolute, removing all negative values – proving to be exceptionally efficient\n",
    "```python\n",
    "def absolute_values(self, df: pd.DataFrame):\n",
    "    df[df.columns] = df[df.columns].abs()\n",
    "    df = df.replace(-0.0, 0.0)\n",
    "    return df\n",
    "```\n",
    "### Intuitive data\n",
    "We expect the data to be seasonal. Looking at the individual plots against its timestamp, all off the values seem to follow a sinodial pattern.\n",
    "\n",
    "The exceptions are more random, and of these are either dropped or features like \n",
    "- prob_rime\n",
    "- dew_or_rime"
   ]
  },
  {
   "cell_type": "markdown",
   "metadata": {},
   "source": [
    "### Feature engineering\n",
    "\n",
    "From the different \"pipeline classes\" you will se how we tried different methods of dropping correlated features, adding lag features, doing sinodial transformations of the timestamps, different ways of grouping and widening the dataframe pivoting the quarter hours. A short description of the optimal Pipeline:\n",
    "\n",
    "The feature engineering process involves experimenting with various techniques, including:\n",
    "   - Handling date-related features.\n",
    "   - One-hot encoding estimated and observed categories.\n",
    "   - Grouping data by hour.\n",
    "   - Exploring different methods for removing consecutive measurements.\n",
    "   - Lagging features by 1 hour.\n",
    "   - Clipping predictions to be non-negative.\n",
    "\n",
    "The optimal pipeline involves a combination of these steps to achieve the best results for the given data and problem domain. The feature selection is guided by the identification of important features that contribute significantly to the model's performance."
   ]
  }
 ],
 "metadata": {
  "language_info": {
   "name": "python"
  }
 },
 "nbformat": 4,
 "nbformat_minor": 2
}
