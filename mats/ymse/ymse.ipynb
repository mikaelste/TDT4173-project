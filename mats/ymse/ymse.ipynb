{
 "cells": [
  {
   "cell_type": "code",
   "execution_count": 1,
   "metadata": {},
   "outputs": [],
   "source": [
    "import pandas as pd"
   ]
  },
  {
   "cell_type": "code",
   "execution_count": 2,
   "metadata": {},
   "outputs": [
    {
     "name": "stdout",
     "output_type": "stream",
     "text": [
      "['/Users/matsalexander/Desktop/Forest Gump/mats/ymse', '/Users/matsalexander/.pyenv/versions/3.8.18/lib/python38.zip', '/Users/matsalexander/.pyenv/versions/3.8.18/lib/python3.8', '/Users/matsalexander/.pyenv/versions/3.8.18/lib/python3.8/lib-dynload', '', '/Users/matsalexander/.pyenv/versions/3.8.18/envs/pycaret/lib/python3.8/site-packages']\n"
     ]
    },
    {
     "ename": "ModuleNotFoundError",
     "evalue": "No module named 'Master'",
     "output_type": "error",
     "traceback": [
      "\u001b[0;31m---------------------------------------------------------------------------\u001b[0m",
      "\u001b[0;31mModuleNotFoundError\u001b[0m                       Traceback (most recent call last)",
      "\u001b[1;32m/Users/matsalexander/Desktop/Forest Gump/mats/ymse/ymse.ipynb Cell 2\u001b[0m line \u001b[0;36m6\n\u001b[1;32m      <a href='vscode-notebook-cell:/Users/matsalexander/Desktop/Forest%20Gump/mats/ymse/ymse.ipynb#W1sZmlsZQ%3D%3D?line=2'>3</a>\u001b[0m sys\u001b[39m.\u001b[39mpath\u001b[39m.\u001b[39mappend(sys\u001b[39m.\u001b[39mpath[\u001b[39m0\u001b[39m][\u001b[39m0\u001b[39m:\u001b[39m-\u001b[39m\u001b[39m9\u001b[39m] \u001b[39m+\u001b[39m \u001b[39m'\u001b[39m\u001b[39mmikael\u001b[39m\u001b[39m'\u001b[39m)\n\u001b[1;32m      <a href='vscode-notebook-cell:/Users/matsalexander/Desktop/Forest%20Gump/mats/ymse/ymse.ipynb#W1sZmlsZQ%3D%3D?line=3'>4</a>\u001b[0m \u001b[39m# print(sys.path)\u001b[39;00m\n\u001b[1;32m      <a href='vscode-notebook-cell:/Users/matsalexander/Desktop/Forest%20Gump/mats/ymse/ymse.ipynb#W1sZmlsZQ%3D%3D?line=4'>5</a>\u001b[0m \u001b[39m# from ..mikael import Master\u001b[39;00m\n\u001b[0;32m----> <a href='vscode-notebook-cell:/Users/matsalexander/Desktop/Forest%20Gump/mats/ymse/ymse.ipynb#W1sZmlsZQ%3D%3D?line=5'>6</a>\u001b[0m \u001b[39mfrom\u001b[39;00m \u001b[39mMaster\u001b[39;00m \u001b[39mimport\u001b[39;00m MasterDataframes\n\u001b[1;32m      <a href='vscode-notebook-cell:/Users/matsalexander/Desktop/Forest%20Gump/mats/ymse/ymse.ipynb#W1sZmlsZQ%3D%3D?line=6'>7</a>\u001b[0m mdf \u001b[39m=\u001b[39m MasterDataframes()\n\u001b[1;32m      <a href='vscode-notebook-cell:/Users/matsalexander/Desktop/Forest%20Gump/mats/ymse/ymse.ipynb#W1sZmlsZQ%3D%3D?line=7'>8</a>\u001b[0m df_a \u001b[39m=\u001b[39m mdf\u001b[39m.\u001b[39mdf_a\n",
      "\u001b[0;31mModuleNotFoundError\u001b[0m: No module named 'Master'"
     ]
    }
   ],
   "source": [
    "import sys\n",
    "print(sys.path)\n",
    "sys.path.append(sys.path[0][0:-9] + 'mikael')\n",
    "# print(sys.path)\n",
    "# from ..mikael import Master\n",
    "from Master import MasterDataframes\n",
    "mdf = MasterDataframes()\n",
    "df_a = mdf.df_a\n",
    "# X_A, Y_A = mdf.prep_dataset_x_y(\"A\")\n",
    "X, Y = mdf.prep_dataset_x_y(\"A\")"
   ]
  },
  {
   "cell_type": "markdown",
   "metadata": {},
   "source": [
    "<h1> Data exploration and visualization maybe"
   ]
  },
  {
   "cell_type": "code",
   "execution_count": null,
   "metadata": {},
   "outputs": [],
   "source": [
    "# Estimate\n",
    "X_train_estimated_a: pd.DataFrame = pd.read_parquet(\"../A/X_train_estimated.parquet\")\n",
    "X_train_estimated_b: pd.DataFrame = pd.read_parquet(\"../B/X_train_estimated.parquet\")\n",
    "X_train_estimated_c: pd.DataFrame = pd.read_parquet(\"../C/X_train_estimated.parquet\")\n",
    "\n",
    "# Test estimates\n",
    "X_test_estimated_a: pd.DataFrame = pd.read_parquet(\"../A/X_test_estimated.parquet\")\n",
    "X_test_estimated_b: pd.DataFrame = pd.read_parquet(\"../B/X_test_estimated.parquet\")\n",
    "X_test_estimated_c: pd.DataFrame = pd.read_parquet(\"../C/X_test_estimated.parquet\")\n",
    "\n",
    "# Observations\n",
    "X_train_observed_a: pd.DataFrame = pd.read_parquet(\"../A/X_train_observed.parquet\")\n",
    "X_train_observed_b: pd.DataFrame = pd.read_parquet(\"../B/X_train_observed.parquet\")\n",
    "X_train_observed_c: pd.DataFrame = pd.read_parquet(\"../C/X_train_observed.parquet\")\n",
    "\n",
    "# Targets\n",
    "Y_train_observed_a: pd.DataFrame = pd.read_parquet(\"../A/train_targets.parquet\")\n",
    "Y_train_observed_b: pd.DataFrame = pd.read_parquet(\"../B/train_targets.parquet\")\n",
    "Y_train_observed_c: pd.DataFrame = pd.read_parquet(\"../C/train_targets.parquet\")"
   ]
  },
  {
   "cell_type": "markdown",
   "metadata": {},
   "source": [
    "\n",
    "While PyCaret may not directly support these time series-specific feature selection techniques out of the box, you can still use PyCaret for other aspects of your time series analysis, such as model selection and hyperparameter tuning. You may need to implement time series-specific feature engineering and feature selection steps separately or use specialized time series libraries like statsmodels, Prophet, or feature-engine for these tasks.\n",
    "\n",
    "<hr>\n",
    "\n",
    "Lag Features: In time series analysis, it's common to create lag features, which involve shifting the values of the target variable or other relevant features over time. These lag features can capture temporal dependencies and are often valuable for modeling time series data.\n",
    "\n",
    "Rolling Statistics: You may want to compute rolling statistics (e.g., rolling mean, rolling standard deviation) for certain features to capture trends and seasonality.\n",
    "\n",
    "Feature Engineering: Feature engineering in time series analysis can involve creating time-based features such as day of the week, month, quarter, or year. These features can help capture patterns related to seasonality and trends.\n",
    "\n",
    "Domain Knowledge: Expert domain knowledge can be crucial for selecting relevant features in time series analysis. Understanding the underlying processes and potential drivers of the time series can guide feature selection.\n",
    "\n",
    "Recursive Feature Elimination (RFE): You can adapt RFE techniques to time series data by iteratively removing less relevant features and evaluating their impact on model performance. However, you should be cautious about the potential introduction of data leakage when using RFE with time series data.\n",
    "\n",
    "Cross-Validation: When performing feature selection for time series data, it's important to use time-aware cross-validation techniques (e.g., time series cross-validation, walk-forward validation) to ensure that your feature selection process does not introduce information from the future into the training data."
   ]
  },
  {
   "cell_type": "markdown",
   "metadata": {},
   "source": []
  }
 ],
 "metadata": {
  "kernelspec": {
   "display_name": "pycaret",
   "language": "python",
   "name": "python3"
  },
  "language_info": {
   "codemirror_mode": {
    "name": "ipython",
    "version": 3
   },
   "file_extension": ".py",
   "mimetype": "text/x-python",
   "name": "python",
   "nbconvert_exporter": "python",
   "pygments_lexer": "ipython3",
   "version": "3.8.18"
  },
  "orig_nbformat": 4
 },
 "nbformat": 4,
 "nbformat_minor": 2
}
